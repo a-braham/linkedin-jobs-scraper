{
 "cells": [
  {
   "cell_type": "markdown",
   "id": "e8d3004c-ad21-4eb1-8aff-66b0c51e4e66",
   "metadata": {},
   "source": [
    "# LinkedIn Job scraper"
   ]
  },
  {
   "cell_type": "markdown",
   "id": "54e50f9b-7a26-4b61-a706-3c62a387f7f3",
   "metadata": {},
   "source": [
    "## Imports"
   ]
  },
  {
   "cell_type": "code",
   "execution_count": 1,
   "id": "388f98a4-8b45-4a70-a239-b270d4e6651e",
   "metadata": {},
   "outputs": [],
   "source": [
    "import os\n",
    "from selenium import webdriver\n",
    "from selenium.webdriver.common.by import By\n",
    "from selenium.webdriver.common.keys import Keys\n",
    "from selenium.webdriver.chrome.options import Options\n",
    "from selenium.webdriver.support.ui import WebDriverWait\n",
    "from selenium.webdriver.support import expected_conditions as EC\n",
    "from bs4 import BeautifulSoup\n",
    "import time\n",
    "from dotenv import load_dotenv"
   ]
  },
  {
   "cell_type": "markdown",
   "id": "a323df02-7dc6-4699-b286-3c86864c0918",
   "metadata": {},
   "source": [
    "## Environment Variables"
   ]
  },
  {
   "cell_type": "code",
   "execution_count": 2,
   "id": "d3b96117-28e1-4dd1-a4a6-104e6116f089",
   "metadata": {},
   "outputs": [
    {
     "name": "stdout",
     "output_type": "stream",
     "text": [
      "ericabraham806@gmail.com\n"
     ]
    }
   ],
   "source": [
    "load_dotenv()\n",
    "USERNAME=os.getenv('LINKEDIN_USERNAME')\n",
    "PASSWORD=os.getenv('LINKEDIN_PASSWORD')\n",
    "PROFILE_URL=os.getenv('LINKEDIN_PROFILE_URL')\n",
    "\n",
    "print(USERNAME)"
   ]
  },
  {
   "cell_type": "markdown",
   "id": "31fe4414-80f2-4133-bd63-667722bb18f9",
   "metadata": {},
   "source": [
    "## Login to LinkedIn"
   ]
  },
  {
   "cell_type": "code",
   "execution_count": 3,
   "id": "600db94a-70ef-420f-97bf-ff4c812a90b8",
   "metadata": {},
   "outputs": [],
   "source": [
    "# Using headless browser\n",
    "# options = webdriver.ChromeOptions()\n",
    "# options.add_argument('headless')\n",
    "# driver = webdriver.Chrome(options=options)\n",
    "\n",
    "# Or\n",
    "\n",
    "options = Options()\n",
    "# options.add_argument('--headless=new')\n",
    "options.add_argument('--window-size=1920,1200')\n",
    "driver = webdriver.Chrome(options=options)\n",
    "\n",
    "# driver = webdriver.Chrome()\n",
    "driver.get('https://www.linkedin.com/login')\n",
    "time.sleep(5)\n",
    "\n",
    "username = driver.find_element(By.ID, 'username')\n",
    "print(username)\n",
    "username.send_keys(USERNAME)\n",
    "\n",
    "password = driver.find_element(By.ID, 'password')\n",
    "print(password)\n",
    "password.send_keys(PASSWORD)\n",
    "\n",
    "driver.find_element(By.XPATH, \"//button[@type='submit']\").click()"
   ]
  },
  {
   "cell_type": "markdown",
   "id": "50c40db1-e77d-40a1-bb56-ba763ee7485f",
   "metadata": {},
   "source": [
    "## Fetch Profile"
   ]
  },
  {
   "cell_type": "code",
   "execution_count": 6,
   "id": "6c71ad21-979f-4eca-9a4e-97339ad1edc1",
   "metadata": {},
   "outputs": [],
   "source": [
    "url = PROFILE_URL\n",
    "driver.get(url)\n",
    "\n",
    "src = driver.page_source\n",
    "soup = BeautifulSoup(src, 'html.parser')"
   ]
  },
  {
   "cell_type": "markdown",
   "id": "294cd087-d0c4-4775-9369-3f7a3af1ac34",
   "metadata": {},
   "source": [
    "## Extract Profile Html"
   ]
  },
  {
   "cell_type": "code",
   "execution_count": 6,
   "id": "d96abf4a-f059-4b60-a33c-6c058a672115",
   "metadata": {},
   "outputs": [
    {
     "ename": "AttributeError",
     "evalue": "'NoneType' object has no attribute 'text'",
     "output_type": "error",
     "traceback": [
      "\u001b[0;31m---------------------------------------------------------------------------\u001b[0m",
      "\u001b[0;31mAttributeError\u001b[0m                            Traceback (most recent call last)",
      "Cell \u001b[0;32mIn[6], line 2\u001b[0m\n\u001b[1;32m      1\u001b[0m profile \u001b[38;5;241m=\u001b[39m soup\u001b[38;5;241m.\u001b[39mfind(\u001b[38;5;124m'\u001b[39m\u001b[38;5;124mdiv\u001b[39m\u001b[38;5;124m'\u001b[39m, {\u001b[38;5;124m'\u001b[39m\u001b[38;5;124mclass\u001b[39m\u001b[38;5;124m'\u001b[39m: \u001b[38;5;124m'\u001b[39m\u001b[38;5;124martdeco-hoverable-content__content\u001b[39m\u001b[38;5;124m'\u001b[39m})\n\u001b[0;32m----> 2\u001b[0m is_verified \u001b[38;5;241m=\u001b[39m \u001b[38;5;124m'\u001b[39m\u001b[38;5;124mhas verifications\u001b[39m\u001b[38;5;124m'\u001b[39m \u001b[38;5;129;01min\u001b[39;00m \u001b[43mprofile\u001b[49m\u001b[38;5;241;43m.\u001b[39;49m\u001b[43mtext\u001b[49m\n\u001b[1;32m      3\u001b[0m \u001b[38;5;28mprint\u001b[39m(is_verified)\n",
      "\u001b[0;31mAttributeError\u001b[0m: 'NoneType' object has no attribute 'text'"
     ]
    }
   ],
   "source": [
    "profile = soup.find('div', {'class': 'artdeco-hoverable-content__content'})\n",
    "is_verified = 'has verifications' in profile.text\n",
    "print(is_verified)"
   ]
  },
  {
   "cell_type": "markdown",
   "id": "cfd05e91-8827-4fe6-8fdd-800f5eb530f4",
   "metadata": {},
   "source": [
    "## Extract Jobs From Jobs Page"
   ]
  },
  {
   "cell_type": "code",
   "execution_count": 7,
   "id": "c02daa85-d851-4d39-b83d-f5f3b17739b8",
   "metadata": {},
   "outputs": [],
   "source": [
    "driver.find_element(By.XPATH, \"//*[@id='global-nav']/div/nav/ul/li[3]/a/span\").click()"
   ]
  },
  {
   "cell_type": "code",
   "execution_count": 8,
   "id": "99484fd5-a987-4f60-8493-106205170a8a",
   "metadata": {},
   "outputs": [],
   "source": [
    "src = driver.page_source\n",
    "soup = BeautifulSoup(src, 'html.parser')"
   ]
  },
  {
   "cell_type": "markdown",
   "id": "fd96f3be-2cf1-4b8e-a1c8-e67eda85d62b",
   "metadata": {},
   "source": [
    "## Extract Job Titles"
   ]
  },
  {
   "cell_type": "code",
   "execution_count": null,
   "id": "823557a6-0cdf-4e20-b999-0c2827ff69fb",
   "metadata": {},
   "outputs": [],
   "source": [
    "jobs = soup.find_all('a', {'class': 'job-card-list__title'})\n",
    "titles = []\n",
    "for title in jobs:\n",
    "    titles.append(title.text.strip())\n",
    " \n",
    "print(titles)"
   ]
  },
  {
   "cell_type": "markdown",
   "id": "9756910e-398d-45e2-a32a-3f5667bc2a0a",
   "metadata": {},
   "source": [
    "## Extract Companies"
   ]
  },
  {
   "cell_type": "code",
   "execution_count": null,
   "id": "56d8ad82-eb6f-43d0-9922-3781bf9cc709",
   "metadata": {},
   "outputs": [],
   "source": [
    "companies = soup.find_all('span', {'class': 'job-card-container__primary-description'})\n",
    "names = []\n",
    "for name in companies:\n",
    "    names.append(name.text.strip())\n",
    " \n",
    "print(names)"
   ]
  },
  {
   "cell_type": "markdown",
   "id": "60484154-b161-4b2a-a900-2066fc23b55a",
   "metadata": {},
   "source": [
    "## Extract Job Location"
   ]
  },
  {
   "cell_type": "code",
   "execution_count": null,
   "id": "381c3e6e-7489-4b9f-a47f-f155f7c01d2b",
   "metadata": {},
   "outputs": [],
   "source": [
    "import re\n",
    " \n",
    "locations = soup.find_all('ul', {'class': 'job-card-container__metadata-wrapper'})\n",
    " \n",
    "names = []\n",
    " \n",
    "for location in locations:\n",
    "    res = re.sub('\\n\\n +', ' ', location.text.strip())\n",
    "    names.append(res)\n",
    " \n",
    "print(names)"
   ]
  },
  {
   "cell_type": "markdown",
   "id": "7f6c80cc-baea-4189-a7f6-6643815525fc",
   "metadata": {},
   "source": [
    "## Extract Jobs By Searching"
   ]
  },
  {
   "cell_type": "code",
   "execution_count": null,
   "id": "5e5f8780-e6cb-495b-b755-f5f2bb249cab",
   "metadata": {},
   "outputs": [],
   "source": [
    "search = driver.find_element(By.CLASS_NAME, \"search-global-typeahead__input\")\n",
    "search.send_keys('software engineer')\n",
    "search.send_keys(Keys.RETURN)"
   ]
  },
  {
   "cell_type": "code",
   "execution_count": 24,
   "id": "036c493e-4e8e-482e-8de5-3c8b8cc75474",
   "metadata": {},
   "outputs": [],
   "source": [
    "src = driver.page_source\n",
    "soup = BeautifulSoup(src, 'html.parser')"
   ]
  },
  {
   "cell_type": "markdown",
   "id": "ce7af2db-0540-4cb0-8c7f-73af69c25b16",
   "metadata": {},
   "source": [
    "## Extract Job Title From Search"
   ]
  },
  {
   "cell_type": "code",
   "execution_count": null,
   "id": "1939a496-12e8-4e02-a55a-32dd1d642a9a",
   "metadata": {},
   "outputs": [],
   "source": [
    "jobs = soup.find_all('span', {'class': 'entity-result__title-text t-16'})\n",
    "titles = []\n",
    "for title in jobs:\n",
    "    titles.append(title.text.strip())\n",
    " \n",
    "print(titles)"
   ]
  },
  {
   "cell_type": "code",
   "execution_count": 34,
   "id": "adc407bb-ad73-402f-ab06-c190ca5eddd4",
   "metadata": {},
   "outputs": [],
   "source": [
    "search = driver.find_element(By.CLASS_NAME, \"jobs-search-box__text-input\")"
   ]
  },
  {
   "cell_type": "code",
   "execution_count": null,
   "id": "66ee244f-e9f4-423c-ab0c-c0cbf48041a5",
   "metadata": {},
   "outputs": [],
   "source": [
    "src = driver.page_source\n",
    "soup = BeautifulSoup(src, 'html.parser')"
   ]
  },
  {
   "cell_type": "markdown",
   "id": "09e54f1e-512a-4d4a-8e36-36d09de2d71d",
   "metadata": {},
   "source": [
    "## Search Jobs in Jobs Page"
   ]
  },
  {
   "cell_type": "code",
   "execution_count": 9,
   "id": "16852580-8ec1-4f8b-86ba-b6ee213ff129",
   "metadata": {},
   "outputs": [],
   "source": [
    "keyword = driver.find_element(By.XPATH, \"//input[contains(@id, 'jobs-search-box-keyword-id')]\")\n",
    "keyword.send_keys('software engineer')"
   ]
  },
  {
   "cell_type": "code",
   "execution_count": 10,
   "id": "e3fde431-4d06-4bfd-a290-5e4b80a2c221",
   "metadata": {},
   "outputs": [],
   "source": [
    "location = driver.find_element(By.XPATH, \"//input[contains(@id, 'jobs-search-box-location-id')]\")\n",
    "location.send_keys('Kigali')"
   ]
  },
  {
   "cell_type": "code",
   "execution_count": 11,
   "id": "e4c46a1b-9b4a-48ce-b0ed-72cf4a143e98",
   "metadata": {},
   "outputs": [],
   "source": [
    "location.send_keys(Keys.RETURN)"
   ]
  },
  {
   "cell_type": "markdown",
   "id": "492976d6-d6d9-461c-9a7c-2e80b9ca02b7",
   "metadata": {},
   "source": [
    "## Filter Jobs by [Jobs, Date, Remote, ...]"
   ]
  },
  {
   "cell_type": "code",
   "execution_count": 39,
   "id": "476014f4-e6d9-453e-a2ea-819e1c95fea4",
   "metadata": {},
   "outputs": [],
   "source": [
    "driver.find_element(By.XPATH, \"//*[@id='search-reusables__filters-bar']/ul/li[1]/div/button\").click()"
   ]
  },
  {
   "cell_type": "markdown",
   "id": "e152f7cd-8b5e-4ef4-b92b-c2c250d30147",
   "metadata": {},
   "source": [
    "## Organize Jobs in Table Form"
   ]
  },
  {
   "cell_type": "code",
   "execution_count": 12,
   "id": "47d2ca9b-3b8e-467d-bbd2-f4f25d1dfe1d",
   "metadata": {},
   "outputs": [
    {
     "name": "stdout",
     "output_type": "stream",
     "text": [
      "3399\n"
     ]
    }
   ],
   "source": [
    "element_class = 'jobs-search-results-list'\n",
    "scrollable_element = driver.find_element(\"css selector\", \".\" + element_class)\n",
    "# total_height = scrollable_element.size[\"height\"]\n",
    "total_height = driver.execute_script(\"return arguments[0].scrollHeight;\", scrollable_element)\n",
    "\n",
    "print(total_height)\n",
    "\n",
    "scroll_increment = 100\n",
    "current_position = 0\n",
    "\n",
    "while current_position < total_height:\n",
    "    driver.execute_script(\"arguments[0].scrollTop += arguments[1];\", scrollable_element, scroll_increment)\n",
    "    current_position += scroll_increment\n",
    "    time.sleep(0.5)"
   ]
  },
  {
   "cell_type": "code",
   "execution_count": 13,
   "id": "876a2034-4242-4880-9eba-8633409fd125",
   "metadata": {},
   "outputs": [],
   "source": [
    "html = driver.find_element(By.CLASS_NAME, \"scaffold-layout__list-container\")\n",
    "\n",
    "driver.execute_script(\"window.scrollTo(0, document.body.scrollHeight);\")"
   ]
  },
  {
   "cell_type": "code",
   "execution_count": 206,
   "id": "0466ed69-505c-4b6e-befa-fd1803a73add",
   "metadata": {},
   "outputs": [],
   "source": [
    "# element_class = 'jobs-search-results-list'\n",
    "\n",
    "# scroll_script = \"\"\"\n",
    "# var element = document.getElementsByClassName('{0}')[0];\n",
    "# element.scrollTop = element.scrollHeight;\n",
    "# \"\"\".format(element_class)\n",
    "# # driver.execute_script(scroll_script)\n",
    "# driver.execute_script(\"arguments[0].scrollTop = arguments[0].scrollHeight;\", scrollable_element)"
   ]
  },
  {
   "cell_type": "code",
   "execution_count": 207,
   "id": "dd5733f9-c9e1-47be-96d9-668d5fe3f56a",
   "metadata": {},
   "outputs": [
    {
     "data": {
      "text/plain": [
       "[<selenium.webdriver.remote.webelement.WebElement (session=\"570c12022e58822fcbaeee35d1b8b86c\", element=\"f.E4DCA506C6106D096858C5DF3BB1193A.d.39EC5DC0F0A6FB592900E73B4363CA18.e.257\")>]"
      ]
     },
     "execution_count": 207,
     "metadata": {},
     "output_type": "execute_result"
    }
   ],
   "source": [
    "# element_class = 'jobs-search-results-list'\n",
    "# scrollable_element = driver.find_element(\"css selector\", \".\" + element_class)\n",
    "# driver.execute_script(\"arguments[0].scrollTop = arguments[0].scrollHeight;\", scrollable_element)\n",
    "# WebDriverWait(driver, 10).until(EC.presence_of_all_elements_located((By.CSS_SELECTOR, \".\" + element_class)))"
   ]
  },
  {
   "cell_type": "code",
   "execution_count": 14,
   "id": "17f29da0-d355-4508-949c-4512f6a1d5ae",
   "metadata": {},
   "outputs": [],
   "source": [
    "src = driver.page_source\n",
    "soup = BeautifulSoup(src, 'html.parser')"
   ]
  },
  {
   "cell_type": "code",
   "execution_count": 15,
   "id": "0d1cb3d0-47b1-4e88-917e-0ffe286d325c",
   "metadata": {},
   "outputs": [],
   "source": [
    "import pandas as pd"
   ]
  },
  {
   "cell_type": "code",
   "execution_count": 16,
   "id": "f060c043-ab54-4cd0-befa-0aa481d650d9",
   "metadata": {},
   "outputs": [],
   "source": [
    "titles = ['Job Title', 'Company', 'Location', 'Status', 'Application Link']"
   ]
  },
  {
   "cell_type": "code",
   "execution_count": 17,
   "id": "78c1c6d5-99e5-4494-a00a-01cee27f48af",
   "metadata": {},
   "outputs": [],
   "source": [
    "df = pd.DataFrame(columns = titles)"
   ]
  },
  {
   "cell_type": "code",
   "execution_count": 18,
   "id": "fa0ce104-1d5c-4f4a-863d-7367b8b8e0a9",
   "metadata": {},
   "outputs": [
    {
     "data": {
      "text/html": [
       "<div>\n",
       "<style scoped>\n",
       "    .dataframe tbody tr th:only-of-type {\n",
       "        vertical-align: middle;\n",
       "    }\n",
       "\n",
       "    .dataframe tbody tr th {\n",
       "        vertical-align: top;\n",
       "    }\n",
       "\n",
       "    .dataframe thead th {\n",
       "        text-align: right;\n",
       "    }\n",
       "</style>\n",
       "<table border=\"1\" class=\"dataframe\">\n",
       "  <thead>\n",
       "    <tr style=\"text-align: right;\">\n",
       "      <th></th>\n",
       "      <th>Job Title</th>\n",
       "      <th>Company</th>\n",
       "      <th>Location</th>\n",
       "      <th>Status</th>\n",
       "      <th>Application Link</th>\n",
       "    </tr>\n",
       "  </thead>\n",
       "  <tbody>\n",
       "    <tr>\n",
       "      <th>0</th>\n",
       "      <td>Software Engineer - Revit, C#, .NET</td>\n",
       "      <td>Braintrust</td>\n",
       "      <td>Sub-Saharan Africa (Remote)</td>\n",
       "      <td>N/A</td>\n",
       "      <td>/jobs/view/3850035395/?eBP=CwEAAAGOYG05Zh3Sge7...</td>\n",
       "    </tr>\n",
       "    <tr>\n",
       "      <th>1</th>\n",
       "      <td>Senior Full Stack Web Developer</td>\n",
       "      <td>Braintrust</td>\n",
       "      <td>Sub-Saharan Africa (Remote)</td>\n",
       "      <td>N/A</td>\n",
       "      <td>/jobs/view/3850037379/?eBP=CwEAAAGOYG05ZukeVta...</td>\n",
       "    </tr>\n",
       "    <tr>\n",
       "      <th>2</th>\n",
       "      <td>Team Lead, Mobile Engineer (React/Capacitor/Ty...</td>\n",
       "      <td>Deel</td>\n",
       "      <td>EMEA (Remote)</td>\n",
       "      <td>N/A</td>\n",
       "      <td>/jobs/view/3800416327/?eBP=CwEAAAGOYG05Z8CjoLM...</td>\n",
       "    </tr>\n",
       "    <tr>\n",
       "      <th>3</th>\n",
       "      <td>Senior Back-End Engineer (Node.js/TypeScript)</td>\n",
       "      <td>Deel</td>\n",
       "      <td>EMEA (Remote)</td>\n",
       "      <td>N/A</td>\n",
       "      <td>/jobs/view/3765008393/?eBP=CwEAAAGOYG05Z9ge3Et...</td>\n",
       "    </tr>\n",
       "    <tr>\n",
       "      <th>4</th>\n",
       "      <td>Software Engineer, DeFi Metrics</td>\n",
       "      <td>Braintrust</td>\n",
       "      <td>EMEA (Remote)</td>\n",
       "      <td>Your profile matches this job</td>\n",
       "      <td>/jobs/view/3812771508/?eBP=CwEAAAGOYG05ZyvrwDl...</td>\n",
       "    </tr>\n",
       "    <tr>\n",
       "      <th>5</th>\n",
       "      <td>Senior Backend Engineer</td>\n",
       "      <td>Right Balance ®</td>\n",
       "      <td>EMEA (Remote)</td>\n",
       "      <td>N/A</td>\n",
       "      <td>/jobs/view/3860445166/?eBP=CwEAAAGOYG05ZzBfnsz...</td>\n",
       "    </tr>\n",
       "    <tr>\n",
       "      <th>6</th>\n",
       "      <td>Software Engineer Back-End</td>\n",
       "      <td>InstaDeep</td>\n",
       "      <td>Kigali City, Rwanda (Hybrid)</td>\n",
       "      <td>N/A</td>\n",
       "      <td>/jobs/view/3851748357/?eBP=NOT_ELIGIBLE_FOR_CH...</td>\n",
       "    </tr>\n",
       "    <tr>\n",
       "      <th>7</th>\n",
       "      <td>Backend Engineer (Gateway)</td>\n",
       "      <td>Carry1st</td>\n",
       "      <td>Sub-Saharan Africa (Remote)</td>\n",
       "      <td>N/A</td>\n",
       "      <td>/jobs/view/3850809644/?eBP=NOT_ELIGIBLE_FOR_CH...</td>\n",
       "    </tr>\n",
       "    <tr>\n",
       "      <th>8</th>\n",
       "      <td>Full Stack Engineer</td>\n",
       "      <td>SiiRA World</td>\n",
       "      <td>EMEA (Remote)</td>\n",
       "      <td>N/A</td>\n",
       "      <td>/jobs/view/3854416319/?eBP=NOT_ELIGIBLE_FOR_CH...</td>\n",
       "    </tr>\n",
       "    <tr>\n",
       "      <th>9</th>\n",
       "      <td>Back End Developer</td>\n",
       "      <td>Plexus Resource Solutions</td>\n",
       "      <td>EMEA (Remote)</td>\n",
       "      <td>N/A</td>\n",
       "      <td>/jobs/view/3839792489/?eBP=NOT_ELIGIBLE_FOR_CH...</td>\n",
       "    </tr>\n",
       "    <tr>\n",
       "      <th>10</th>\n",
       "      <td>Software Architect</td>\n",
       "      <td>Tidal-X</td>\n",
       "      <td>EMEA (Remote)</td>\n",
       "      <td>N/A</td>\n",
       "      <td>/jobs/view/3838381849/?eBP=NOT_ELIGIBLE_FOR_CH...</td>\n",
       "    </tr>\n",
       "    <tr>\n",
       "      <th>11</th>\n",
       "      <td>IoT Engineer</td>\n",
       "      <td>AI Staffing Ninja</td>\n",
       "      <td>EMEA (Remote)</td>\n",
       "      <td>Response time is typically 4 days</td>\n",
       "      <td>/jobs/view/3830975285/?eBP=NOT_ELIGIBLE_FOR_CH...</td>\n",
       "    </tr>\n",
       "    <tr>\n",
       "      <th>12</th>\n",
       "      <td>Back-End Engineer</td>\n",
       "      <td>Braintrust</td>\n",
       "      <td>EMEA (Remote)</td>\n",
       "      <td>N/A</td>\n",
       "      <td>/jobs/view/3846329557/?eBP=NOT_ELIGIBLE_FOR_CH...</td>\n",
       "    </tr>\n",
       "    <tr>\n",
       "      <th>13</th>\n",
       "      <td>Software Engineer - Digital Workplace</td>\n",
       "      <td>Canonical</td>\n",
       "      <td>EMEA (Remote)</td>\n",
       "      <td>N/A</td>\n",
       "      <td>/jobs/view/3498053416/?eBP=NOT_ELIGIBLE_FOR_CH...</td>\n",
       "    </tr>\n",
       "    <tr>\n",
       "      <th>14</th>\n",
       "      <td>Systems Integrations Software Engineer</td>\n",
       "      <td>Canonical</td>\n",
       "      <td>EMEA (Remote)</td>\n",
       "      <td>N/A</td>\n",
       "      <td>/jobs/view/3826414489/?eBP=NOT_ELIGIBLE_FOR_CH...</td>\n",
       "    </tr>\n",
       "    <tr>\n",
       "      <th>15</th>\n",
       "      <td>Software Engineer (Consensys Staking)</td>\n",
       "      <td>Consensys</td>\n",
       "      <td>EMEA (Remote)</td>\n",
       "      <td>N/A</td>\n",
       "      <td>/jobs/view/3835959373/?eBP=NOT_ELIGIBLE_FOR_CH...</td>\n",
       "    </tr>\n",
       "    <tr>\n",
       "      <th>16</th>\n",
       "      <td>Big Data Engineer</td>\n",
       "      <td>AI Staffing Ninja</td>\n",
       "      <td>EMEA (Remote)</td>\n",
       "      <td>Response time is typically 4 days</td>\n",
       "      <td>/jobs/view/3830974509/?eBP=NOT_ELIGIBLE_FOR_CH...</td>\n",
       "    </tr>\n",
       "    <tr>\n",
       "      <th>17</th>\n",
       "      <td>Senior Support &amp; Software Engineer, Saudi Arabia</td>\n",
       "      <td>Canonical</td>\n",
       "      <td>EMEA (Remote)</td>\n",
       "      <td>N/A</td>\n",
       "      <td>/jobs/view/3661859266/?eBP=NOT_ELIGIBLE_FOR_CH...</td>\n",
       "    </tr>\n",
       "    <tr>\n",
       "      <th>18</th>\n",
       "      <td>Principal Software Engineer, Trilogy (Remote) ...</td>\n",
       "      <td>Crossover</td>\n",
       "      <td>Kigali, Kigali City, Rwanda (Remote)</td>\n",
       "      <td>N/A</td>\n",
       "      <td>/jobs/view/3863348354/?eBP=NOT_ELIGIBLE_FOR_CH...</td>\n",
       "    </tr>\n",
       "    <tr>\n",
       "      <th>19</th>\n",
       "      <td>Full-Stack Engineer</td>\n",
       "      <td>Deel</td>\n",
       "      <td>EMEA (Remote)</td>\n",
       "      <td>N/A</td>\n",
       "      <td>/jobs/view/3864864639/?eBP=NOT_ELIGIBLE_FOR_CH...</td>\n",
       "    </tr>\n",
       "    <tr>\n",
       "      <th>20</th>\n",
       "      <td>Senior Software Engineer, Trilogy (Remote) - $...</td>\n",
       "      <td>Crossover</td>\n",
       "      <td>Kigali, Kigali City, Rwanda (Remote)</td>\n",
       "      <td>N/A</td>\n",
       "      <td>/jobs/view/3863349205/?eBP=NOT_ELIGIBLE_FOR_CH...</td>\n",
       "    </tr>\n",
       "    <tr>\n",
       "      <th>21</th>\n",
       "      <td>Infrastructure Engineer</td>\n",
       "      <td>Camunda</td>\n",
       "      <td>EMEA (Remote)</td>\n",
       "      <td>Response time is typically 4 days</td>\n",
       "      <td>/jobs/view/3852723941/?eBP=NOT_ELIGIBLE_FOR_CH...</td>\n",
       "    </tr>\n",
       "    <tr>\n",
       "      <th>22</th>\n",
       "      <td>Senior Rails Developer</td>\n",
       "      <td>ITR Partners</td>\n",
       "      <td>EMEA (Remote)</td>\n",
       "      <td>N/A</td>\n",
       "      <td>/jobs/view/3836883109/?eBP=NOT_ELIGIBLE_FOR_CH...</td>\n",
       "    </tr>\n",
       "    <tr>\n",
       "      <th>23</th>\n",
       "      <td>Go Software Engineer, Commercial Systems</td>\n",
       "      <td>Canonical</td>\n",
       "      <td>EMEA (Remote)</td>\n",
       "      <td>N/A</td>\n",
       "      <td>/jobs/view/3748409583/?eBP=NOT_ELIGIBLE_FOR_CH...</td>\n",
       "    </tr>\n",
       "    <tr>\n",
       "      <th>24</th>\n",
       "      <td>Staff Backend Engineer</td>\n",
       "      <td>Consensys</td>\n",
       "      <td>EMEA (Remote)</td>\n",
       "      <td>N/A</td>\n",
       "      <td>/jobs/view/3835953038/?eBP=NOT_ELIGIBLE_FOR_CH...</td>\n",
       "    </tr>\n",
       "  </tbody>\n",
       "</table>\n",
       "</div>"
      ],
      "text/plain": [
       "                                            Job Title  \\\n",
       "0                 Software Engineer - Revit, C#, .NET   \n",
       "1                     Senior Full Stack Web Developer   \n",
       "2   Team Lead, Mobile Engineer (React/Capacitor/Ty...   \n",
       "3       Senior Back-End Engineer (Node.js/TypeScript)   \n",
       "4                     Software Engineer, DeFi Metrics   \n",
       "5                             Senior Backend Engineer   \n",
       "6                          Software Engineer Back-End   \n",
       "7                          Backend Engineer (Gateway)   \n",
       "8                                 Full Stack Engineer   \n",
       "9                                  Back End Developer   \n",
       "10                                 Software Architect   \n",
       "11                                       IoT Engineer   \n",
       "12                                  Back-End Engineer   \n",
       "13              Software Engineer - Digital Workplace   \n",
       "14             Systems Integrations Software Engineer   \n",
       "15              Software Engineer (Consensys Staking)   \n",
       "16                                  Big Data Engineer   \n",
       "17   Senior Support & Software Engineer, Saudi Arabia   \n",
       "18  Principal Software Engineer, Trilogy (Remote) ...   \n",
       "19                                Full-Stack Engineer   \n",
       "20  Senior Software Engineer, Trilogy (Remote) - $...   \n",
       "21                            Infrastructure Engineer   \n",
       "22                             Senior Rails Developer   \n",
       "23           Go Software Engineer, Commercial Systems   \n",
       "24                             Staff Backend Engineer   \n",
       "\n",
       "                      Company                              Location  \\\n",
       "0                  Braintrust           Sub-Saharan Africa (Remote)   \n",
       "1                  Braintrust           Sub-Saharan Africa (Remote)   \n",
       "2                        Deel                         EMEA (Remote)   \n",
       "3                        Deel                         EMEA (Remote)   \n",
       "4                  Braintrust                         EMEA (Remote)   \n",
       "5             Right Balance ®                         EMEA (Remote)   \n",
       "6                   InstaDeep          Kigali City, Rwanda (Hybrid)   \n",
       "7                    Carry1st           Sub-Saharan Africa (Remote)   \n",
       "8                 SiiRA World                         EMEA (Remote)   \n",
       "9   Plexus Resource Solutions                         EMEA (Remote)   \n",
       "10                    Tidal-X                         EMEA (Remote)   \n",
       "11          AI Staffing Ninja                         EMEA (Remote)   \n",
       "12                 Braintrust                         EMEA (Remote)   \n",
       "13                  Canonical                         EMEA (Remote)   \n",
       "14                  Canonical                         EMEA (Remote)   \n",
       "15                  Consensys                         EMEA (Remote)   \n",
       "16          AI Staffing Ninja                         EMEA (Remote)   \n",
       "17                  Canonical                         EMEA (Remote)   \n",
       "18                  Crossover  Kigali, Kigali City, Rwanda (Remote)   \n",
       "19                       Deel                         EMEA (Remote)   \n",
       "20                  Crossover  Kigali, Kigali City, Rwanda (Remote)   \n",
       "21                    Camunda                         EMEA (Remote)   \n",
       "22               ITR Partners                         EMEA (Remote)   \n",
       "23                  Canonical                         EMEA (Remote)   \n",
       "24                  Consensys                         EMEA (Remote)   \n",
       "\n",
       "                               Status  \\\n",
       "0                                 N/A   \n",
       "1                                 N/A   \n",
       "2                                 N/A   \n",
       "3                                 N/A   \n",
       "4       Your profile matches this job   \n",
       "5                                 N/A   \n",
       "6                                 N/A   \n",
       "7                                 N/A   \n",
       "8                                 N/A   \n",
       "9                                 N/A   \n",
       "10                                N/A   \n",
       "11  Response time is typically 4 days   \n",
       "12                                N/A   \n",
       "13                                N/A   \n",
       "14                                N/A   \n",
       "15                                N/A   \n",
       "16  Response time is typically 4 days   \n",
       "17                                N/A   \n",
       "18                                N/A   \n",
       "19                                N/A   \n",
       "20                                N/A   \n",
       "21  Response time is typically 4 days   \n",
       "22                                N/A   \n",
       "23                                N/A   \n",
       "24                                N/A   \n",
       "\n",
       "                                     Application Link  \n",
       "0   /jobs/view/3850035395/?eBP=CwEAAAGOYG05Zh3Sge7...  \n",
       "1   /jobs/view/3850037379/?eBP=CwEAAAGOYG05ZukeVta...  \n",
       "2   /jobs/view/3800416327/?eBP=CwEAAAGOYG05Z8CjoLM...  \n",
       "3   /jobs/view/3765008393/?eBP=CwEAAAGOYG05Z9ge3Et...  \n",
       "4   /jobs/view/3812771508/?eBP=CwEAAAGOYG05ZyvrwDl...  \n",
       "5   /jobs/view/3860445166/?eBP=CwEAAAGOYG05ZzBfnsz...  \n",
       "6   /jobs/view/3851748357/?eBP=NOT_ELIGIBLE_FOR_CH...  \n",
       "7   /jobs/view/3850809644/?eBP=NOT_ELIGIBLE_FOR_CH...  \n",
       "8   /jobs/view/3854416319/?eBP=NOT_ELIGIBLE_FOR_CH...  \n",
       "9   /jobs/view/3839792489/?eBP=NOT_ELIGIBLE_FOR_CH...  \n",
       "10  /jobs/view/3838381849/?eBP=NOT_ELIGIBLE_FOR_CH...  \n",
       "11  /jobs/view/3830975285/?eBP=NOT_ELIGIBLE_FOR_CH...  \n",
       "12  /jobs/view/3846329557/?eBP=NOT_ELIGIBLE_FOR_CH...  \n",
       "13  /jobs/view/3498053416/?eBP=NOT_ELIGIBLE_FOR_CH...  \n",
       "14  /jobs/view/3826414489/?eBP=NOT_ELIGIBLE_FOR_CH...  \n",
       "15  /jobs/view/3835959373/?eBP=NOT_ELIGIBLE_FOR_CH...  \n",
       "16  /jobs/view/3830974509/?eBP=NOT_ELIGIBLE_FOR_CH...  \n",
       "17  /jobs/view/3661859266/?eBP=NOT_ELIGIBLE_FOR_CH...  \n",
       "18  /jobs/view/3863348354/?eBP=NOT_ELIGIBLE_FOR_CH...  \n",
       "19  /jobs/view/3864864639/?eBP=NOT_ELIGIBLE_FOR_CH...  \n",
       "20  /jobs/view/3863349205/?eBP=NOT_ELIGIBLE_FOR_CH...  \n",
       "21  /jobs/view/3852723941/?eBP=NOT_ELIGIBLE_FOR_CH...  \n",
       "22  /jobs/view/3836883109/?eBP=NOT_ELIGIBLE_FOR_CH...  \n",
       "23  /jobs/view/3748409583/?eBP=NOT_ELIGIBLE_FOR_CH...  \n",
       "24  /jobs/view/3835953038/?eBP=NOT_ELIGIBLE_FOR_CH...  "
      ]
     },
     "execution_count": 18,
     "metadata": {},
     "output_type": "execute_result"
    }
   ],
   "source": [
    "jobs = soup.find_all('li', {'class': 'jobs-search-results__list-item'})\n",
    "\n",
    "for job in jobs:\n",
    "    title = job.find('strong').text.strip()\n",
    "\n",
    "    company = job.find('span', {'class': 'job-card-container__primary-description'}).text.strip()\n",
    "    location = job.find('li', {'class': 'job-card-container__metadata-item'}).text.strip()\n",
    "    status = job.find('div', {'class': 'job-card-container__job-insight-text'})\n",
    "    status =  'N/A' if status is None else status.text.strip()\n",
    "    link = job.find('a', href=True)['href']\n",
    "\n",
    "    data = [job for job in (title, company, location, status, link)]\n",
    "\n",
    "    length = len(df)\n",
    "    df.loc[length] = data\n",
    "\n",
    "df"
   ]
  },
  {
   "cell_type": "markdown",
   "id": "8b083e44-40e1-4503-b63f-3f47ff854e6f",
   "metadata": {},
   "source": [
    "## Export to CSV"
   ]
  },
  {
   "cell_type": "code",
   "execution_count": 21,
   "id": "50068ad0-abfe-411d-8dd0-b68f58f60796",
   "metadata": {},
   "outputs": [],
   "source": [
    "from datetime import datetime\n",
    "df.to_csv(r'./Data/jobs_{}.csv'.format(datetime.now().strftime('%Y-%m-%d %H:%M:%S.%f')), index=False)"
   ]
  },
  {
   "cell_type": "code",
   "execution_count": null,
   "id": "929001b2-7953-478d-8c95-33f11e3a25a7",
   "metadata": {},
   "outputs": [],
   "source": []
  }
 ],
 "metadata": {
  "kernelspec": {
   "display_name": "scraper",
   "language": "python",
   "name": "scraper"
  },
  "language_info": {
   "codemirror_mode": {
    "name": "ipython",
    "version": 3
   },
   "file_extension": ".py",
   "mimetype": "text/x-python",
   "name": "python",
   "nbconvert_exporter": "python",
   "pygments_lexer": "ipython3",
   "version": "3.12.2"
  }
 },
 "nbformat": 4,
 "nbformat_minor": 5
}
